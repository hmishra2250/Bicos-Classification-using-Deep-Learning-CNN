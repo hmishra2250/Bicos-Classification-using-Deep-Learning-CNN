{
 "cells": [
  {
   "cell_type": "code",
   "execution_count": 10,
   "metadata": {},
   "outputs": [],
   "source": [
    "import os\n",
    "import tensorflow as tf\n",
    "import cv2\n",
    "import numpy as np\n",
    "import time\n",
    "import inspect\n",
    "from sklearn.cross_validation import KFold\n",
    "from keras.utils import to_categorical\n",
    "from sklearn.model_selection import train_test_split\n",
    "from keras.models import Sequential, Model\n",
    "from keras.applications.vgg16 import VGG16, preprocess_input\n",
    "from keras.preprocessing.image import ImageDataGenerator,load_img, img_to_array\n",
    "from keras.layers import Conv2D, MaxPooling2D, Dense, Dropout, Input, Flatten\n",
    "from keras.layers.normalization import BatchNormalization\n",
    "from keras.optimizers import Adam\n",
    "import matplotlib.pyplot as plt\n",
    "%matplotlib inline"
   ]
  },
  {
   "cell_type": "code",
   "execution_count": 2,
   "metadata": {},
   "outputs": [],
   "source": [
    "filelabel = np.load('filelabel.npy')\n",
    "data = np.load('data128.npy')\n",
    "cat_labels = np.load('cat_labels.npy')"
   ]
  },
  {
   "cell_type": "code",
   "execution_count": 3,
   "metadata": {},
   "outputs": [],
   "source": [
    "X_train, X_test, y_train, y_test = train_test_split(data, cat_labels, test_size = 0.2, stratify=filelabel)"
   ]
  },
  {
   "cell_type": "code",
   "execution_count": 4,
   "metadata": {},
   "outputs": [],
   "source": [
    "batch_size = 32\n",
    "num_classes = 103\n",
    "epochs = 100\n",
    "img_rows, img_cols, dim = 128, 128, 3\n",
    "input_shape = (img_rows, img_cols, dim)\n",
    "nfolds = 5"
   ]
  },
  {
   "cell_type": "code",
   "execution_count": 5,
   "metadata": {},
   "outputs": [],
   "source": [
    "train_datagen = ImageDataGenerator(\n",
    "    rescale = 1.0/255,\n",
    "    shear_range = 0.2,\n",
    "    rotation_range = 20,\n",
    "    width_shift_range = 0.2, \n",
    "    height_shift_range = 0.2, \n",
    "    horizontal_flip = True\n",
    ")\n",
    "train_datagen.fit(X_train)"
   ]
  },
  {
   "cell_type": "code",
   "execution_count": 5,
   "metadata": {},
   "outputs": [],
   "source": [
    "def get_model():\n",
    "    base_model = VGG16(include_top=False, input_shape=input_shape)\n",
    "    for layers in base_model.layers:\n",
    "        layers.trainable = False\n",
    "    base_model_output = base_model.output\n",
    "    \n",
    "    #Adding new layers\n",
    "    x = Flatten()(base_model.output)\n",
    "    x = Dense(500, activation='relu', name='fc1')(x)\n",
    "    x = Dropout(0.5)(x)\n",
    "    x = Dense(num_classes, activation='softmax', name='fc2')(x)\n",
    "    \n",
    "    model = Model(inputs=base_model.input, outputs=x)\n",
    "    return model"
   ]
  },
  {
   "cell_type": "markdown",
   "metadata": {},
   "source": [
    "## First just checking for the scope of this method using a simple model fitting"
   ]
  },
  {
   "cell_type": "code",
   "execution_count": 7,
   "metadata": {},
   "outputs": [],
   "source": [
    "model = get_model()"
   ]
  },
  {
   "cell_type": "code",
   "execution_count": 8,
   "metadata": {},
   "outputs": [],
   "source": [
    "valid_datagen = ImageDataGenerator(\n",
    "    rescale = 1.0/255,\n",
    "    shear_range = 0.2,\n",
    "    rotation_range = 20,\n",
    "    width_shift_range = 0.2, \n",
    "    height_shift_range = 0.2, \n",
    "    horizontal_flip = True\n",
    ")\n",
    "valid_datagen.fit(X_test)"
   ]
  },
  {
   "cell_type": "code",
   "execution_count": 9,
   "metadata": {},
   "outputs": [],
   "source": [
    "opt = Adam(lr=1e-3, decay=1e-6)\n",
    "model.compile(loss='categorical_crossentropy', optimizer=opt, metrics=['accuracy'])"
   ]
  },
  {
   "cell_type": "code",
   "execution_count": 1,
   "metadata": {},
   "outputs": [
    {
     "ename": "NameError",
     "evalue": "name 'model' is not defined",
     "output_type": "error",
     "traceback": [
      "\u001b[0;31m---------------------------------------------------------------------------\u001b[0m",
      "\u001b[0;31mNameError\u001b[0m                                 Traceback (most recent call last)",
      "\u001b[0;32m<ipython-input-1-7d715dd80d51>\u001b[0m in \u001b[0;36m<module>\u001b[0;34m()\u001b[0m\n\u001b[0;32m----> 1\u001b[0;31m model.fit_generator(train_datagen.flow(X_train, y_train, batch_size=32),\n\u001b[0m\u001b[1;32m      2\u001b[0m                     \u001b[0msteps_per_epoch\u001b[0m\u001b[0;34m=\u001b[0m\u001b[0mlen\u001b[0m\u001b[0;34m(\u001b[0m\u001b[0mX_train\u001b[0m\u001b[0;34m)\u001b[0m\u001b[0;34m//\u001b[0m\u001b[0;36m32\u001b[0m\u001b[0;34m,\u001b[0m \u001b[0mepochs\u001b[0m\u001b[0;34m=\u001b[0m\u001b[0mepochs\u001b[0m\u001b[0;34m,\u001b[0m\u001b[0;34m\u001b[0m\u001b[0m\n\u001b[1;32m      3\u001b[0m                    \u001b[0mvalidation_data\u001b[0m\u001b[0;34m=\u001b[0m\u001b[0mvalid_datagen\u001b[0m\u001b[0;34m.\u001b[0m\u001b[0mflow\u001b[0m\u001b[0;34m(\u001b[0m\u001b[0mX_test\u001b[0m\u001b[0;34m,\u001b[0m \u001b[0my_test\u001b[0m\u001b[0;34m,\u001b[0m \u001b[0mbatch_size\u001b[0m\u001b[0;34m=\u001b[0m\u001b[0;36m32\u001b[0m\u001b[0;34m)\u001b[0m\u001b[0;34m,\u001b[0m\u001b[0;34m\u001b[0m\u001b[0m\n\u001b[1;32m      4\u001b[0m                    validation_steps=len(X_test)//32)\n",
      "\u001b[0;31mNameError\u001b[0m: name 'model' is not defined"
     ]
    }
   ],
   "source": [
    "model.fit_generator(train_datagen.flow(X_train, y_train, batch_size=32),\n",
    "                    steps_per_epoch=len(X_train)//32, epochs=epochs,\n",
    "                   validation_data=valid_datagen.flow(X_test, y_test, batch_size=32),\n",
    "                   validation_steps=len(X_test)//32)"
   ]
  },
  {
   "cell_type": "markdown",
   "metadata": {},
   "source": [
    "## Finding the optimum parameters using Cross Validation"
   ]
  },
  {
   "cell_type": "code",
   "execution_count": 7,
   "metadata": {},
   "outputs": [
    {
     "name": "stdout",
     "output_type": "stream",
     "text": [
      "Epoch 1/1\n",
      "163/163 [==============================] - 45s 274ms/step - loss: 4.2254 - acc: 0.0893 - val_loss: 3.4218 - val_acc: 0.2562\n",
      "5240/5240 [==============================] - 35s 7ms/step\n",
      "1311/1311 [==============================] - 11s 8ms/step\n",
      "Done fold 0: Train Metric -  [11.664735575668685, 0.20190839696931476]  Val -  [12.12352793058487, 0.1754385963775655]\n",
      "Epoch 1/1\n",
      "163/163 [==============================] - 47s 290ms/step - loss: 4.2487 - acc: 0.0836 - val_loss: 3.5655 - val_acc: 0.2195\n",
      "5241/5241 [==============================] - 36s 7ms/step\n",
      "1310/1310 [==============================] - 11s 8ms/step\n",
      "Done fold 1: Train Metric -  [11.721539786880513, 0.17553901925833712]  Val -  [12.116435436802057, 0.16793893141145924]\n",
      "Epoch 1/1\n",
      "163/163 [==============================] - 46s 279ms/step - loss: 4.2362 - acc: 0.0794 - val_loss: 3.5252 - val_acc: 0.2367\n",
      "5241/5241 [==============================] - 36s 7ms/step\n",
      "1310/1310 [==============================] - 9s 7ms/step\n",
      "Done fold 2: Train Metric -  [12.266595338596867, 0.1722953634674575]  Val -  [12.209202144710162, 0.17251908403771524]\n",
      "Epoch 1/1\n",
      "163/163 [==============================] - 46s 281ms/step - loss: 4.3014 - acc: 0.0805 - val_loss: 3.7081 - val_acc: 0.1945\n",
      "5241/5241 [==============================] - 36s 7ms/step\n",
      "1310/1310 [==============================] - 9s 7ms/step\n",
      "Done fold 3: Train Metric -  [12.06446538884047, 0.16809769126749566]  Val -  [12.498611048341708, 0.146564885530308]\n",
      "Epoch 1/1\n",
      "163/163 [==============================] - 46s 282ms/step - loss: 4.2715 - acc: 0.0793 - val_loss: 3.5881 - val_acc: 0.2086\n",
      "5241/5241 [==============================] - 36s 7ms/step\n",
      "1310/1310 [==============================] - 9s 7ms/step\n",
      "Done fold 4: Train Metric -  [12.464232957356305, 0.1505437893403825]  Val -  [12.733045460067633, 0.13511450397604294]\n"
     ]
    }
   ],
   "source": [
    "folds = KFold(len(y_train), n_folds = nfolds, shuffle = True, random_state = 111)\n",
    "vallogger = []\n",
    "trlogger = []\n",
    "tracc = []\n",
    "valacc = []\n",
    "for num, (inTr, inVa) in enumerate(folds):\n",
    "    xtr = X_train[inTr]\n",
    "    xva = X_train[inVa]\n",
    "    ytr = y_train[inTr]\n",
    "    yva = y_train[inVa]\n",
    "    model = get_model()\n",
    "    opt = Adam(lr=1e-3, decay=1e-6)\n",
    "    model.compile(loss='categorical_crossentropy', optimizer=opt, metrics=['accuracy'])\n",
    "    train_datagen = ImageDataGenerator(\n",
    "        rescale = 1.0/255,\n",
    "        shear_range = 0.2,\n",
    "        rotation_range = 20,\n",
    "        width_shift_range = 0.2, \n",
    "        height_shift_range = 0.2, \n",
    "        horizontal_flip = True\n",
    "    )\n",
    "    train_datagen.fit(xtr)\n",
    "    valid_datagen = ImageDataGenerator(\n",
    "        rescale = 1.0/255,\n",
    "        shear_range = 0.2,\n",
    "        rotation_range = 20,\n",
    "        width_shift_range = 0.2, \n",
    "        height_shift_range = 0.2, \n",
    "        horizontal_flip = True\n",
    "    )\n",
    "    valid_datagen.fit(xva)\n",
    "    history = model.fit_generator(train_datagen.flow(xtr, ytr, batch_size=32),\n",
    "                   steps_per_epoch=len(xtr)//32, epochs=1,\n",
    "                   validation_data=valid_datagen.flow(xva, yva, batch_size=32),\n",
    "                   validation_steps=len(xva)//32)    \n",
    "    vallogger.append(history.history['val_loss'])\n",
    "    trlogger.append(history.history['loss'])\n",
    "    tracc.append(history.history['acc'])\n",
    "    valacc.append(history.history['val_acc'])\n",
    "    print('Done fold ' + str(num) + ': Train Metric - ', model.evaluate(xtr, ytr), ' Val - ',\\\n",
    "          model.evaluate(xva, yva))\n",
    "    \n",
    "vallogger = np.array(vallogger)\n",
    "trlogger = np.array(trlogger)\n",
    "valacc = np.array(valacc)\n",
    "tracc = np.array(tracc)"
   ]
  },
  {
   "cell_type": "code",
   "execution_count": 8,
   "metadata": {},
   "outputs": [],
   "source": [
    "val_acc, val_loss, tr_acc, tr_loss = [], [], [], []\n",
    "for j in range(epochs):\n",
    "    acc, loss, val_ac, val_l = 0, 0, 0, 0\n",
    "    for i in range(nfolds):\n",
    "        acc += tracc[i][j]\n",
    "        loss += trlogger[i][j]\n",
    "        val_ac += vallogger[i][j]\n",
    "        val_l += valacc[i][j]\n",
    "    val_acc.append(1.0*val_ac/nfolds)\n",
    "    val_loss.append(1.0*val_l/nfolds)\n",
    "    tr_acc.append(1.0*acc/nfolds)\n",
    "    tr_loss.append(1.0*loss/nfolds)"
   ]
  },
  {
   "cell_type": "code",
   "execution_count": 12,
   "metadata": {},
   "outputs": [
    {
     "data": {
      "text/plain": [
       "[<matplotlib.lines.Line2D at 0x7f85e78909b0>]"
      ]
     },
     "execution_count": 12,
     "metadata": {},
     "output_type": "execute_result"
    },
    {
     "data": {
      "image/png": "[encoded data removed]",
      "text/plain": [
       "<Figure size 432x288 with 1 Axes>"
      ]
     },
     "metadata": {},
     "output_type": "display_data"
    }
   ],
   "source": [
    "plt.plot(range(1, epochs + 1), val_loss)\n",
    "plt.plot(range(1, epochs + 1), tr_loss)"
   ]
  },
  {
   "cell_type": "code",
   "execution_count": 13,
   "metadata": {},
   "outputs": [
    {
     "data": {
      "text/plain": [
       "[<matplotlib.lines.Line2D at 0x7f85e7806160>]"
      ]
     },
     "execution_count": 13,
     "metadata": {},
     "output_type": "execute_result"
    },
    {
     "data": {
      "image/png": "[encoded data removed]",
      "text/plain": [
       "<Figure size 432x288 with 1 Axes>"
      ]
     },
     "metadata": {},
     "output_type": "display_data"
    }
   ],
   "source": [
    "plt.plot(range(1, epochs + 1), val_acc)\n",
    "plt.plot(range(1, epochs + 1), tr_acc)"
   ]
  },
  {
   "cell_type": "code",
   "execution_count": null,
   "metadata": {},
   "outputs": [],
   "source": []
  }
 ],
 "metadata": {
  "kernelspec": {
   "display_name": "Python [conda env:tensorflow]",
   "language": "python",
   "name": "conda-env-tensorflow-py"
  },
  "language_info": {
   "codemirror_mode": {
    "name": "ipython",
    "version": 3
   },
   "file_extension": ".py",
   "mimetype": "text/x-python",
   "name": "python",
   "nbconvert_exporter": "python",
   "pygments_lexer": "ipython3",
   "version": "3.6.4"
  }
 },
 "nbformat": 4,
 "nbformat_minor": 2
}
